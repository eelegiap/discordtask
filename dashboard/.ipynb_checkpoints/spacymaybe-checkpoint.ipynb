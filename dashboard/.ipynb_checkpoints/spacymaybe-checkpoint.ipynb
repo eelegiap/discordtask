{
 "cells": [
  {
   "cell_type": "code",
   "execution_count": 3,
   "id": "f7817ac4-88fc-4404-b82f-4e6958e7ba7f",
   "metadata": {},
   "outputs": [],
   "source": [
    "# !pip install spacy"
   ]
  },
  {
   "cell_type": "code",
   "execution_count": 4,
   "id": "92e06584-35fe-4878-9c1a-9126f75f208a",
   "metadata": {
    "scrolled": true
   },
   "outputs": [],
   "source": [
    "import spacy\n",
    "import datetime\n",
    "import random\n",
    "import string\n",
    "from dateutil import parser\n",
    "import json"
   ]
  },
  {
   "cell_type": "code",
   "execution_count": 57,
   "id": "d2e75476-ab95-4a88-a798-89d353a5520d",
   "metadata": {},
   "outputs": [],
   "source": [
    "from tqdm import tqdm"
   ]
  },
  {
   "cell_type": "code",
   "execution_count": 7,
   "id": "24b3df20-01b6-4e35-8a14-d335a7fa7f47",
   "metadata": {},
   "outputs": [],
   "source": [
    "with open('gpt4all-chat.json', 'r') as f:\n",
    "  data = json.load(f)\n",
    "data = data['messages']"
   ]
  },
  {
   "cell_type": "code",
   "execution_count": 9,
   "id": "ccd6873e-9610-4c54-bd71-8dc7f55807ca",
   "metadata": {
    "collapsed": true,
    "jupyter": {
     "outputs_hidden": true
    },
    "scrolled": true
   },
   "outputs": [
    {
     "name": "stdout",
     "output_type": "stream",
     "text": [
      "Collecting en-core-web-sm==3.5.0\n",
      "  Downloading https://github.com/explosion/spacy-models/releases/download/en_core_web_sm-3.5.0/en_core_web_sm-3.5.0-py3-none-any.whl (12.8 MB)\n",
      "\u001b[2K     \u001b[90m━━━━━━━━━━━━━━━━━━━━━━━━━━━━━━━━━━━━━━━━\u001b[0m \u001b[32m12.8/12.8 MB\u001b[0m \u001b[31m11.8 MB/s\u001b[0m eta \u001b[36m0:00:00\u001b[0m00:01\u001b[0m00:01\u001b[0m\n",
      "\u001b[?25hRequirement already satisfied: spacy<3.6.0,>=3.5.0 in /Users/paigelee/opt/anaconda3/envs/myenv/lib/python3.11/site-packages (from en-core-web-sm==3.5.0) (3.5.3)\n",
      "Requirement already satisfied: spacy-legacy<3.1.0,>=3.0.11 in /Users/paigelee/opt/anaconda3/envs/myenv/lib/python3.11/site-packages (from spacy<3.6.0,>=3.5.0->en-core-web-sm==3.5.0) (3.0.12)\n",
      "Requirement already satisfied: spacy-loggers<2.0.0,>=1.0.0 in /Users/paigelee/opt/anaconda3/envs/myenv/lib/python3.11/site-packages (from spacy<3.6.0,>=3.5.0->en-core-web-sm==3.5.0) (1.0.4)\n",
      "Requirement already satisfied: murmurhash<1.1.0,>=0.28.0 in /Users/paigelee/opt/anaconda3/envs/myenv/lib/python3.11/site-packages (from spacy<3.6.0,>=3.5.0->en-core-web-sm==3.5.0) (1.0.9)\n",
      "Requirement already satisfied: cymem<2.1.0,>=2.0.2 in /Users/paigelee/opt/anaconda3/envs/myenv/lib/python3.11/site-packages (from spacy<3.6.0,>=3.5.0->en-core-web-sm==3.5.0) (2.0.7)\n",
      "Requirement already satisfied: preshed<3.1.0,>=3.0.2 in /Users/paigelee/opt/anaconda3/envs/myenv/lib/python3.11/site-packages (from spacy<3.6.0,>=3.5.0->en-core-web-sm==3.5.0) (3.0.8)\n",
      "Requirement already satisfied: thinc<8.2.0,>=8.1.8 in /Users/paigelee/opt/anaconda3/envs/myenv/lib/python3.11/site-packages (from spacy<3.6.0,>=3.5.0->en-core-web-sm==3.5.0) (8.1.10)\n",
      "Requirement already satisfied: wasabi<1.2.0,>=0.9.1 in /Users/paigelee/opt/anaconda3/envs/myenv/lib/python3.11/site-packages (from spacy<3.6.0,>=3.5.0->en-core-web-sm==3.5.0) (1.1.1)\n",
      "Requirement already satisfied: srsly<3.0.0,>=2.4.3 in /Users/paigelee/opt/anaconda3/envs/myenv/lib/python3.11/site-packages (from spacy<3.6.0,>=3.5.0->en-core-web-sm==3.5.0) (2.4.6)\n",
      "Requirement already satisfied: catalogue<2.1.0,>=2.0.6 in /Users/paigelee/opt/anaconda3/envs/myenv/lib/python3.11/site-packages (from spacy<3.6.0,>=3.5.0->en-core-web-sm==3.5.0) (2.0.8)\n",
      "Requirement already satisfied: typer<0.8.0,>=0.3.0 in /Users/paigelee/opt/anaconda3/envs/myenv/lib/python3.11/site-packages (from spacy<3.6.0,>=3.5.0->en-core-web-sm==3.5.0) (0.7.0)\n",
      "Requirement already satisfied: pathy>=0.10.0 in /Users/paigelee/opt/anaconda3/envs/myenv/lib/python3.11/site-packages (from spacy<3.6.0,>=3.5.0->en-core-web-sm==3.5.0) (0.10.1)\n",
      "Requirement already satisfied: smart-open<7.0.0,>=5.2.1 in /Users/paigelee/opt/anaconda3/envs/myenv/lib/python3.11/site-packages (from spacy<3.6.0,>=3.5.0->en-core-web-sm==3.5.0) (6.3.0)\n",
      "Requirement already satisfied: tqdm<5.0.0,>=4.38.0 in /Users/paigelee/opt/anaconda3/envs/myenv/lib/python3.11/site-packages (from spacy<3.6.0,>=3.5.0->en-core-web-sm==3.5.0) (4.65.0)\n",
      "Requirement already satisfied: numpy>=1.15.0 in /Users/paigelee/opt/anaconda3/envs/myenv/lib/python3.11/site-packages (from spacy<3.6.0,>=3.5.0->en-core-web-sm==3.5.0) (1.24.3)\n",
      "Requirement already satisfied: requests<3.0.0,>=2.13.0 in /Users/paigelee/opt/anaconda3/envs/myenv/lib/python3.11/site-packages (from spacy<3.6.0,>=3.5.0->en-core-web-sm==3.5.0) (2.30.0)\n",
      "Requirement already satisfied: pydantic!=1.8,!=1.8.1,<1.11.0,>=1.7.4 in /Users/paigelee/opt/anaconda3/envs/myenv/lib/python3.11/site-packages (from spacy<3.6.0,>=3.5.0->en-core-web-sm==3.5.0) (1.10.7)\n",
      "Requirement already satisfied: jinja2 in /Users/paigelee/opt/anaconda3/envs/myenv/lib/python3.11/site-packages (from spacy<3.6.0,>=3.5.0->en-core-web-sm==3.5.0) (3.1.2)\n",
      "Requirement already satisfied: setuptools in /Users/paigelee/opt/anaconda3/envs/myenv/lib/python3.11/site-packages (from spacy<3.6.0,>=3.5.0->en-core-web-sm==3.5.0) (66.0.0)\n",
      "Requirement already satisfied: packaging>=20.0 in /Users/paigelee/opt/anaconda3/envs/myenv/lib/python3.11/site-packages (from spacy<3.6.0,>=3.5.0->en-core-web-sm==3.5.0) (23.0)\n",
      "Requirement already satisfied: langcodes<4.0.0,>=3.2.0 in /Users/paigelee/opt/anaconda3/envs/myenv/lib/python3.11/site-packages (from spacy<3.6.0,>=3.5.0->en-core-web-sm==3.5.0) (3.3.0)\n",
      "Requirement already satisfied: typing-extensions>=4.2.0 in /Users/paigelee/opt/anaconda3/envs/myenv/lib/python3.11/site-packages (from pydantic!=1.8,!=1.8.1,<1.11.0,>=1.7.4->spacy<3.6.0,>=3.5.0->en-core-web-sm==3.5.0) (4.5.0)\n",
      "Requirement already satisfied: charset-normalizer<4,>=2 in /Users/paigelee/opt/anaconda3/envs/myenv/lib/python3.11/site-packages (from requests<3.0.0,>=2.13.0->spacy<3.6.0,>=3.5.0->en-core-web-sm==3.5.0) (3.1.0)\n",
      "Requirement already satisfied: idna<4,>=2.5 in /Users/paigelee/opt/anaconda3/envs/myenv/lib/python3.11/site-packages (from requests<3.0.0,>=2.13.0->spacy<3.6.0,>=3.5.0->en-core-web-sm==3.5.0) (3.4)\n",
      "Requirement already satisfied: urllib3<3,>=1.21.1 in /Users/paigelee/opt/anaconda3/envs/myenv/lib/python3.11/site-packages (from requests<3.0.0,>=2.13.0->spacy<3.6.0,>=3.5.0->en-core-web-sm==3.5.0) (2.0.2)\n",
      "Requirement already satisfied: certifi>=2017.4.17 in /Users/paigelee/opt/anaconda3/envs/myenv/lib/python3.11/site-packages (from requests<3.0.0,>=2.13.0->spacy<3.6.0,>=3.5.0->en-core-web-sm==3.5.0) (2023.5.7)\n",
      "Requirement already satisfied: blis<0.8.0,>=0.7.8 in /Users/paigelee/opt/anaconda3/envs/myenv/lib/python3.11/site-packages (from thinc<8.2.0,>=8.1.8->spacy<3.6.0,>=3.5.0->en-core-web-sm==3.5.0) (0.7.9)\n",
      "Requirement already satisfied: confection<1.0.0,>=0.0.1 in /Users/paigelee/opt/anaconda3/envs/myenv/lib/python3.11/site-packages (from thinc<8.2.0,>=8.1.8->spacy<3.6.0,>=3.5.0->en-core-web-sm==3.5.0) (0.0.4)\n",
      "Requirement already satisfied: click<9.0.0,>=7.1.1 in /Users/paigelee/opt/anaconda3/envs/myenv/lib/python3.11/site-packages (from typer<0.8.0,>=0.3.0->spacy<3.6.0,>=3.5.0->en-core-web-sm==3.5.0) (8.1.3)\n",
      "Requirement already satisfied: MarkupSafe>=2.0 in /Users/paigelee/opt/anaconda3/envs/myenv/lib/python3.11/site-packages (from jinja2->spacy<3.6.0,>=3.5.0->en-core-web-sm==3.5.0) (2.1.2)\n",
      "Installing collected packages: en-core-web-sm\n",
      "Successfully installed en-core-web-sm-3.5.0\n",
      "\u001b[38;5;2m✔ Download and installation successful\u001b[0m\n",
      "You can now load the package via spacy.load('en_core_web_sm')\n"
     ]
    }
   ],
   "source": [
    " !python -m spacy download en_core_web_sm"
   ]
  },
  {
   "cell_type": "code",
   "execution_count": 10,
   "id": "57473c97-6be6-45b1-ab3a-a593f1e58c06",
   "metadata": {},
   "outputs": [],
   "source": [
    "# Step 3: Load the spaCy model\n",
    "nlp = spacy.load(\"en_core_web_sm\")"
   ]
  },
  {
   "cell_type": "code",
   "execution_count": null,
   "id": "96c72f31-7d1b-4b71-b264-9117462a8022",
   "metadata": {},
   "outputs": [],
   "source": [
    "    # PERSON - People, including fictional.\n",
    "    # NORP - Nationalities or religious or political groups.\n",
    "    # FAC - Buildings, airports, highways, bridges, etc.\n",
    "    # ORG - Companies, agencies, institutions, etc.\n",
    "    # GPE - Countries, cities, states."
   ]
  },
  {
   "cell_type": "code",
   "execution_count": 63,
   "id": "97a037e2-bf2e-4fb2-aecb-c8aac3cbe6f7",
   "metadata": {},
   "outputs": [],
   "source": [
    "# Step 5: Define a function to extract named entities from a given text\n",
    "def extract_named_entities(text):\n",
    "    doc = nlp(text)\n",
    "    entities = []\n",
    "    for entity in doc.ents:\n",
    "        entities.append((entity.text, entity.label_))\n",
    "    return entities\n",
    "\n",
    "# Step 7: Define a function to generate entries with the desired format using spaCy named entities and word frequency\n",
    "def generate_entries(message_dataset):\n",
    "    entries = []\n",
    "\n",
    "    for week_start, week_end in tqdm(get_weeks_range(message_dataset)):\n",
    "        \n",
    "        week_entries = {\n",
    "            \"date\": week_start.isoformat(),\n",
    "            \"words\": {\n",
    "            }\n",
    "        }\n",
    "        ners = ['ORG', 'CARDINAL', 'DATE', 'GPE', 'PERSON', 'MONEY', 'PRODUCT', 'TIME', 'PERCENT', 'WORK_OF_ART', 'QUANTITY', 'NORP', 'LOC', 'EVENT', 'ORDINAL', 'FAC', 'LAW', 'LANGUAGE']\n",
    "        for ner in ners:\n",
    "            week_entries['words'].setdefault(ner.lower(), [])\n",
    "\n",
    "        word_counts = {}\n",
    "\n",
    "        for message in message_dataset:\n",
    "            message_date = message['timestamp'].date()\n",
    "\n",
    "            if week_start <= message_date <= week_end:\n",
    "                text = message['text']\n",
    "                entities = extract_named_entities(text)\n",
    "\n",
    "                for entity, label in entities:\n",
    "                    topic = label.lower()\n",
    "                    word = entity.lower()\n",
    "\n",
    "                    if word in word_counts:\n",
    "                        word_counts[word] += 1\n",
    "                    else:\n",
    "                        word_counts[word] = 1\n",
    "\n",
    "                    entry_id = f\"{word}_{topic}_{word_counts[word]}\"\n",
    "                    entry = {\n",
    "                        \"text\": word,\n",
    "                        \"frequency\": word_counts[word],\n",
    "                        \"topic\": topic,\n",
    "                        \"id\": entry_id\n",
    "                    }\n",
    "\n",
    "                    week_entries[\"words\"][topic].append(entry)\n",
    "\n",
    "        entries.append(week_entries)\n",
    "\n",
    "    return entries\n",
    "\n",
    "# Step 8: Define a function to get the range of weeks in the message dataset\n",
    "def get_weeks_range(message_dataset):\n",
    "    message_dates = [parser.parse(message['timestamp'].isoformat()).date() for message in message_dataset]\n",
    "    min_date = min(message_dates)\n",
    "    max_date = max(message_dates)\n",
    "\n",
    "    start_week = min_date.isocalendar()[1]\n",
    "    end_week = max_date.isocalendar()[1]\n",
    "\n",
    "    weeks_range = []\n",
    "\n",
    "    for week_number in range(start_week, end_week + 1):\n",
    "        week_start = min_date + datetime.timedelta(weeks=(week_number - start_week))\n",
    "        week_end = week_start + datetime.timedelta(days=6)\n",
    "        weeks_range.append((week_start, week_end))\n",
    "\n",
    "    return weeks_range\n",
    "\n"
   ]
  },
  {
   "cell_type": "code",
   "execution_count": 64,
   "id": "5d396d27-e8e6-4669-b065-0dc52f67783e",
   "metadata": {
    "scrolled": true
   },
   "outputs": [],
   "source": [
    "# # Step 9: Provide your message dataset in the form of a list of dictionaries, where each dictionary represents a message and contains the timestamp and text content.\n",
    "\n",
    "# # Sample message dataset\n",
    "# message_dataset = []\n",
    "# for d in data:\n",
    "#     message_dataset.append({\n",
    "#         'timestamp' : parser.parse(d['timestamp']),\n",
    "#         'text' : d['content']\n",
    "#     })\n",
    "\n",
    "# random.choice(message_dataset)"
   ]
  },
  {
   "cell_type": "code",
   "execution_count": 65,
   "id": "d45b7441-d336-493a-8e35-aa20d8ee7fe5",
   "metadata": {},
   "outputs": [
    {
     "name": "stderr",
     "output_type": "stream",
     "text": [
      "100%|█████████████████████████████████████████████| 8/8 [05:14<00:00, 39.31s/it]\n"
     ]
    },
    {
     "data": {
      "text/plain": [
       "8"
      ]
     },
     "execution_count": 65,
     "metadata": {},
     "output_type": "execute_result"
    }
   ],
   "source": [
    "entries = generate_entries(message_dataset)\n",
    "\n",
    "len(entries)"
   ]
  },
  {
   "cell_type": "code",
   "execution_count": 67,
   "id": "8f271c2e-3d1a-4307-9deb-0250b537959b",
   "metadata": {},
   "outputs": [],
   "source": [
    "# Write to JSON:\n",
    "with open('new_data.json', 'w') as f:\n",
    "    json.dump(entries, f)"
   ]
  },
  {
   "cell_type": "code",
   "execution_count": null,
   "id": "5e2e8419-c8cc-4fd8-885b-8d8367ea5d1a",
   "metadata": {},
   "outputs": [],
   "source": []
  }
 ],
 "metadata": {
  "kernelspec": {
   "display_name": "myenv",
   "language": "python",
   "name": "myenv"
  },
  "language_info": {
   "codemirror_mode": {
    "name": "ipython",
    "version": 3
   },
   "file_extension": ".py",
   "mimetype": "text/x-python",
   "name": "python",
   "nbconvert_exporter": "python",
   "pygments_lexer": "ipython3",
   "version": "3.11.3"
  }
 },
 "nbformat": 4,
 "nbformat_minor": 5
}
