{
 "cells": [
  {
   "cell_type": "code",
   "execution_count": 3,
   "id": "ca078e76-f371-41ce-8a20-5ef116ed583a",
   "metadata": {},
   "outputs": [],
   "source": [
    "import pandas as pd\n",
    "import random\n",
    "import numpy as np"
   ]
  },
  {
   "cell_type": "code",
   "execution_count": 4,
   "id": "b43da0fb-815b-4285-b131-a38607777e0d",
   "metadata": {},
   "outputs": [],
   "source": [
    "import json"
   ]
  },
  {
   "cell_type": "code",
   "execution_count": 32,
   "id": "d69d1cbb-8087-46de-948b-43ad675cbc61",
   "metadata": {},
   "outputs": [
    {
     "name": "stdout",
     "output_type": "stream",
     "text": [
      "/Users/paigelee/Desktop/summer2023/jobapps/discordtask/d3-dashboard-master\n"
     ]
    }
   ],
   "source": [
    "cd discordtask/d3-dashboard-master/"
   ]
  },
  {
   "cell_type": "code",
   "execution_count": 137,
   "id": "d209cd98-d2aa-4f3a-86e6-6ad1d96feb42",
   "metadata": {},
   "outputs": [],
   "source": [
    "with open('atlas-chat.json', 'r') as f:\n",
    "  data = json.load(f)"
   ]
  },
  {
   "cell_type": "code",
   "execution_count": 138,
   "id": "ec9a21de-c1e8-4ca3-9e8f-83bf99c220e5",
   "metadata": {},
   "outputs": [],
   "source": [
    "top_posts = []\n",
    "for d in data['messages']:\n",
    "    post = dict()\n",
    "    post[\"username\"] = d[\"author\"][\"name\"]\n",
    "    post[\"post\"] = d[\"content\"]\n",
    "\n",
    "    # In reactions, 'count' is the number of reactions for a specific emoji\n",
    "    # Here, we are summing up all the reactions for a post\n",
    "    post[\"votes\"] = sum([reaction[\"count\"] for reaction in d[\"reactions\"]])\n",
    "\n",
    "    top_posts.append(post)"
   ]
  },
  {
   "cell_type": "code",
   "execution_count": 139,
   "id": "4354331d-4901-40bc-8f39-d18a5fd0f45e",
   "metadata": {},
   "outputs": [],
   "source": [
    "top_posts = sorted(top_posts, key=lambda k: k['votes'], reverse=True)"
   ]
  },
  {
   "cell_type": "code",
   "execution_count": 147,
   "id": "8cd98796-262d-45d3-91eb-adbdead1feea",
   "metadata": {},
   "outputs": [
    {
     "data": {
      "text/plain": [
       "{'username': 'helinyu', 'post': 'Hello', 'votes': 1}"
      ]
     },
     "execution_count": 147,
     "metadata": {},
     "output_type": "execute_result"
    }
   ],
   "source": [
    "top_posts[20]"
   ]
  },
  {
   "cell_type": "code",
   "execution_count": 148,
   "id": "ad91cb0a-ada9-42d1-a7f2-01bf585e8b4e",
   "metadata": {},
   "outputs": [],
   "source": [
    "# top_post_data = dict()\n",
    "top_post_data['atlas'] = top_posts[:20]"
   ]
  },
  {
   "cell_type": "code",
   "execution_count": 149,
   "id": "5a329462-b13d-40a2-b3c8-2ca1d6e21716",
   "metadata": {},
   "outputs": [],
   "source": [
    "# Write to JSON:\n",
    "with open('top_posts.json', 'w') as f:\n",
    "    json.dump(top_post_data, f)"
   ]
  },
  {
   "cell_type": "code",
   "execution_count": 121,
   "id": "4e195de6-049a-4b64-becc-ba44efa1ec93",
   "metadata": {},
   "outputs": [
    {
     "data": {
      "text/plain": [
       "67775"
      ]
     },
     "execution_count": 121,
     "metadata": {},
     "output_type": "execute_result"
    }
   ],
   "source": [
    "len(data['messages'])"
   ]
  },
  {
   "cell_type": "code",
   "execution_count": 122,
   "id": "bec0b6cd-5100-4298-9790-c81268c2d696",
   "metadata": {},
   "outputs": [
    {
     "data": {
      "text/plain": [
       "{'time': '2023-04-04T21:37:33.77+00:00'}"
      ]
     },
     "execution_count": 122,
     "metadata": {},
     "output_type": "execute_result"
    }
   ],
   "source": [
    "newdata = []\n",
    "userDict = dict()\n",
    "for r in data['messages']:\n",
    "    userDict.setdefault(r['author']['name'], 0)\n",
    "    userDict[r['author']['name']]+= 1\n",
    "    newdata.append({\n",
    "        'time' : r['timestamp'],\n",
    "        # 'text' : r['content'],\n",
    "    })\n",
    "random.choice(newdata)"
   ]
  },
  {
   "cell_type": "code",
   "execution_count": 123,
   "id": "425bfc50-d708-4c3a-b303-59873c675f53",
   "metadata": {},
   "outputs": [],
   "source": [
    "newdata = []\n",
    "for user in userDict:\n",
    "    newdata.append({\n",
    "        'username' : user,\n",
    "        'messagesSent' : userDict[user]\n",
    "    })\n",
    "newdata.sort(key=lambda x : x['messagesSent'],reverse=True)\n"
   ]
  },
  {
   "cell_type": "code",
   "execution_count": 124,
   "id": "837cd912-b6cf-4a86-ad19-37ab611d8933",
   "metadata": {},
   "outputs": [],
   "source": [
    "# Write to JSON:\n",
    "with open('gpt4all_leaderboard_data.json', 'w') as f:\n",
    "    json.dump(newdata, f)"
   ]
  },
  {
   "cell_type": "code",
   "execution_count": 63,
   "id": "12628f1b-d60c-493a-92d3-bce228cf539d",
   "metadata": {},
   "outputs": [],
   "source": [
    "# import json\n",
    "# with open('dash1/timeAndText.json', 'w') as f:\n",
    "#     json.dump(newdata, f)"
   ]
  },
  {
   "cell_type": "code",
   "execution_count": 99,
   "id": "672595f7-6f54-465e-9253-b6f59fb9283e",
   "metadata": {},
   "outputs": [
    {
     "data": {
      "text/html": [
       "<div>\n",
       "<style scoped>\n",
       "    .dataframe tbody tr th:only-of-type {\n",
       "        vertical-align: middle;\n",
       "    }\n",
       "\n",
       "    .dataframe tbody tr th {\n",
       "        vertical-align: top;\n",
       "    }\n",
       "\n",
       "    .dataframe thead th {\n",
       "        text-align: right;\n",
       "    }\n",
       "</style>\n",
       "<table border=\"1\" class=\"dataframe\">\n",
       "  <thead>\n",
       "    <tr style=\"text-align: right;\">\n",
       "      <th></th>\n",
       "      <th>time</th>\n",
       "    </tr>\n",
       "  </thead>\n",
       "  <tbody>\n",
       "    <tr>\n",
       "      <th>0</th>\n",
       "      <td>2023-03-29T20:40:56.32+00:00</td>\n",
       "    </tr>\n",
       "    <tr>\n",
       "      <th>1</th>\n",
       "      <td>2023-03-29T20:42:02.129+00:00</td>\n",
       "    </tr>\n",
       "    <tr>\n",
       "      <th>2</th>\n",
       "      <td>2023-03-30T04:37:09.715+00:00</td>\n",
       "    </tr>\n",
       "    <tr>\n",
       "      <th>3</th>\n",
       "      <td>2023-03-30T04:37:22.931+00:00</td>\n",
       "    </tr>\n",
       "    <tr>\n",
       "      <th>4</th>\n",
       "      <td>2023-03-30T15:21:25.78+00:00</td>\n",
       "    </tr>\n",
       "  </tbody>\n",
       "</table>\n",
       "</div>"
      ],
      "text/plain": [
       "                            time\n",
       "0   2023-03-29T20:40:56.32+00:00\n",
       "1  2023-03-29T20:42:02.129+00:00\n",
       "2  2023-03-30T04:37:09.715+00:00\n",
       "3  2023-03-30T04:37:22.931+00:00\n",
       "4   2023-03-30T15:21:25.78+00:00"
      ]
     },
     "execution_count": 99,
     "metadata": {},
     "output_type": "execute_result"
    }
   ],
   "source": [
    "df = pd.DataFrame.from_records(newdata)\n",
    "df.head()"
   ]
  },
  {
   "cell_type": "code",
   "execution_count": 100,
   "id": "f7a52bab-35da-4fe8-a5cb-39e7692188df",
   "metadata": {},
   "outputs": [
    {
     "data": {
      "text/plain": [
       "131"
      ]
     },
     "execution_count": 100,
     "metadata": {},
     "output_type": "execute_result"
    }
   ],
   "source": [
    "len(df)"
   ]
  },
  {
   "cell_type": "code",
   "execution_count": 101,
   "id": "0fa02546-13da-445f-9ddb-2730c911ae2e",
   "metadata": {},
   "outputs": [
    {
     "data": {
      "text/plain": [
       "time    object\n",
       "dtype: object"
      ]
     },
     "execution_count": 101,
     "metadata": {},
     "output_type": "execute_result"
    }
   ],
   "source": [
    "df.dtypes"
   ]
  },
  {
   "cell_type": "code",
   "execution_count": 102,
   "id": "cb74bc7f-4723-4473-9871-30376a27e4b9",
   "metadata": {},
   "outputs": [],
   "source": [
    "df['time'] = pd.to_datetime(df['time'], format=\"mixed\")"
   ]
  },
  {
   "cell_type": "code",
   "execution_count": 103,
   "id": "baee3479-5376-41cb-8004-914b3ed9bdec",
   "metadata": {},
   "outputs": [],
   "source": [
    "\n",
    "# Set the datetime column as the index\n",
    "df.set_index('time', inplace=True)\n",
    "\n",
    "# Count the number of messages per day, week, and month\n",
    "daily_counts = df.resample('D').size()\n",
    "weekly_counts = df.resample('W').size()\n",
    "monthly_counts = df.resample('M').size()\n",
    "\n",
    "# Convert to the expected format:\n",
    "daily_data = [{\"time\": str(index.date()), \"count\": count} for index, count in daily_counts.items()]\n",
    "weekly_data = [{\"time\": str(index.date()), \"count\": count} for index, count in weekly_counts.items()]\n",
    "monthly_data = [{\"time\": str(index.date()), \"count\": count} for index, count in monthly_counts.items()]\n",
    "\n",
    "# Combine into one object:\n",
    "data = {\"Daily\": daily_data, \"Weekly\": weekly_data, \"Monthly\": monthly_data}\n"
   ]
  },
  {
   "cell_type": "code",
   "execution_count": 104,
   "id": "3bdbe6e9-a40a-4c6b-aac1-b97c9f4b14db",
   "metadata": {},
   "outputs": [
    {
     "data": {
      "text/plain": [
       "{'time': '2023-05-07', 'count': 19}"
      ]
     },
     "execution_count": 104,
     "metadata": {},
     "output_type": "execute_result"
    }
   ],
   "source": [
    "random.choice(data['Weekly'])"
   ]
  },
  {
   "cell_type": "code",
   "execution_count": 105,
   "id": "137b5ad4-abb5-4ead-a956-851ba5453561",
   "metadata": {},
   "outputs": [],
   "source": [
    "# Write to JSON:\n",
    "with open('atlas_counts.json', 'w') as f:\n",
    "    json.dump(data, f)"
   ]
  },
  {
   "cell_type": "code",
   "execution_count": null,
   "id": "8740e5b2-59eb-49da-9fd5-8390689e3ee5",
   "metadata": {},
   "outputs": [],
   "source": []
  }
 ],
 "metadata": {
  "kernelspec": {
   "display_name": "myenv",
   "language": "python",
   "name": "myenv"
  },
  "language_info": {
   "codemirror_mode": {
    "name": "ipython",
    "version": 3
   },
   "file_extension": ".py",
   "mimetype": "text/x-python",
   "name": "python",
   "nbconvert_exporter": "python",
   "pygments_lexer": "ipython3",
   "version": "3.11.3"
  }
 },
 "nbformat": 4,
 "nbformat_minor": 5
}
